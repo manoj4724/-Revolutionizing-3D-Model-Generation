{
  "cells": [
    {
      "cell_type": "code",
      "source": [
        "!git clone https://github.com/openai/shap-e"
      ],
      "metadata": {
        "id": "5S6S_IGGNjOg",
        "colab": {
          "base_uri": "https://localhost:8080/"
        },
        "outputId": "14877ae9-8a01-4330-f10b-2bfdbd5038b9"
      },
      "execution_count": 1,
      "outputs": [
        {
          "output_type": "stream",
          "name": "stdout",
          "text": [
            "Cloning into 'shap-e'...\n",
            "remote: Enumerating objects: 336, done.\u001b[K\n",
            "remote: Counting objects: 100% (260/260), done.\u001b[K\n",
            "remote: Compressing objects: 100% (241/241), done.\u001b[K\n",
            "remote: Total 336 (delta 41), reused 218 (delta 18), pack-reused 76\u001b[K\n",
            "Receiving objects: 100% (336/336), 11.72 MiB | 5.42 MiB/s, done.\n",
            "Resolving deltas: 100% (44/44), done.\n"
          ]
        }
      ]
    },
    {
      "cell_type": "code",
      "source": [
        "%cd shap-e"
      ],
      "metadata": {
        "id": "uVsGq19rN8Fm",
        "colab": {
          "base_uri": "https://localhost:8080/"
        },
        "outputId": "92732d57-8e6b-4daa-b614-a0205a65b381"
      },
      "execution_count": 2,
      "outputs": [
        {
          "output_type": "stream",
          "name": "stdout",
          "text": [
            "/content/shap-e\n"
          ]
        }
      ]
    },
    {
      "cell_type": "code",
      "source": [
        "!pip install -e ."
      ],
      "metadata": {
        "id": "idlKJ9WtOBB0",
        "colab": {
          "base_uri": "https://localhost:8080/"
        },
        "outputId": "8d7fd0d7-a7e7-465e-cc19-c5d8af89ac50"
      },
      "execution_count": 3,
      "outputs": [
        {
          "output_type": "stream",
          "name": "stdout",
          "text": [
            "Obtaining file:///content/shap-e\n",
            "  Preparing metadata (setup.py) ... \u001b[?25l\u001b[?25hdone\n",
            "Collecting clip@ git+https://github.com/openai/CLIP.git (from shap-e==0.0.0)\n",
            "  Cloning https://github.com/openai/CLIP.git to /tmp/pip-install-bi65afx4/clip_b65c5bded2bc4bebaefab2549fc75f39\n",
            "  Running command git clone --filter=blob:none --quiet https://github.com/openai/CLIP.git /tmp/pip-install-bi65afx4/clip_b65c5bded2bc4bebaefab2549fc75f39\n",
            "  Resolved https://github.com/openai/CLIP.git to commit dcba3cb2e2827b402d2701e7e1c7d9fed8a20ef1\n",
            "  Preparing metadata (setup.py) ... \u001b[?25l\u001b[?25hdone\n",
            "Requirement already satisfied: filelock in /usr/local/lib/python3.10/dist-packages (from shap-e==0.0.0) (3.15.4)\n",
            "Requirement already satisfied: Pillow in /usr/local/lib/python3.10/dist-packages (from shap-e==0.0.0) (9.4.0)\n",
            "Requirement already satisfied: torch in /usr/local/lib/python3.10/dist-packages (from shap-e==0.0.0) (2.3.1+cu121)\n",
            "Collecting fire (from shap-e==0.0.0)\n",
            "  Downloading fire-0.6.0.tar.gz (88 kB)\n",
            "\u001b[2K     \u001b[90m━━━━━━━━━━━━━━━━━━━━━━━━━━━━━━━━━━━━━━━━\u001b[0m \u001b[32m88.4/88.4 kB\u001b[0m \u001b[31m3.4 MB/s\u001b[0m eta \u001b[36m0:00:00\u001b[0m\n",
            "\u001b[?25h  Preparing metadata (setup.py) ... \u001b[?25l\u001b[?25hdone\n",
            "Requirement already satisfied: humanize in /usr/local/lib/python3.10/dist-packages (from shap-e==0.0.0) (4.7.0)\n",
            "Requirement already satisfied: requests in /usr/local/lib/python3.10/dist-packages (from shap-e==0.0.0) (2.31.0)\n",
            "Requirement already satisfied: tqdm in /usr/local/lib/python3.10/dist-packages (from shap-e==0.0.0) (4.66.4)\n",
            "Requirement already satisfied: matplotlib in /usr/local/lib/python3.10/dist-packages (from shap-e==0.0.0) (3.7.1)\n",
            "Requirement already satisfied: scikit-image in /usr/local/lib/python3.10/dist-packages (from shap-e==0.0.0) (0.19.3)\n",
            "Requirement already satisfied: scipy in /usr/local/lib/python3.10/dist-packages (from shap-e==0.0.0) (1.11.4)\n",
            "Requirement already satisfied: numpy in /usr/local/lib/python3.10/dist-packages (from shap-e==0.0.0) (1.25.2)\n",
            "Collecting blobfile (from shap-e==0.0.0)\n",
            "  Downloading blobfile-2.1.1-py3-none-any.whl (73 kB)\n",
            "\u001b[2K     \u001b[90m━━━━━━━━━━━━━━━━━━━━━━━━━━━━━━━━━━━━━━━━\u001b[0m \u001b[32m73.7/73.7 kB\u001b[0m \u001b[31m12.1 MB/s\u001b[0m eta \u001b[36m0:00:00\u001b[0m\n",
            "\u001b[?25hCollecting pycryptodomex~=3.8 (from blobfile->shap-e==0.0.0)\n",
            "  Downloading pycryptodomex-3.20.0-cp35-abi3-manylinux_2_17_x86_64.manylinux2014_x86_64.whl (2.1 MB)\n",
            "\u001b[2K     \u001b[90m━━━━━━━━━━━━━━━━━━━━━━━━━━━━━━━━━━━━━━━━\u001b[0m \u001b[32m2.1/2.1 MB\u001b[0m \u001b[31m43.5 MB/s\u001b[0m eta \u001b[36m0:00:00\u001b[0m\n",
            "\u001b[?25hRequirement already satisfied: urllib3<3,>=1.25.3 in /usr/local/lib/python3.10/dist-packages (from blobfile->shap-e==0.0.0) (2.0.7)\n",
            "Requirement already satisfied: lxml~=4.9 in /usr/local/lib/python3.10/dist-packages (from blobfile->shap-e==0.0.0) (4.9.4)\n",
            "Collecting ftfy (from clip@ git+https://github.com/openai/CLIP.git->shap-e==0.0.0)\n",
            "  Downloading ftfy-6.2.0-py3-none-any.whl (54 kB)\n",
            "\u001b[2K     \u001b[90m━━━━━━━━━━━━━━━━━━━━━━━━━━━━━━━━━━━━━━━━\u001b[0m \u001b[32m54.4/54.4 kB\u001b[0m \u001b[31m9.5 MB/s\u001b[0m eta \u001b[36m0:00:00\u001b[0m\n",
            "\u001b[?25hRequirement already satisfied: packaging in /usr/local/lib/python3.10/dist-packages (from clip@ git+https://github.com/openai/CLIP.git->shap-e==0.0.0) (24.1)\n",
            "Requirement already satisfied: regex in /usr/local/lib/python3.10/dist-packages (from clip@ git+https://github.com/openai/CLIP.git->shap-e==0.0.0) (2024.5.15)\n",
            "Requirement already satisfied: torchvision in /usr/local/lib/python3.10/dist-packages (from clip@ git+https://github.com/openai/CLIP.git->shap-e==0.0.0) (0.18.1+cu121)\n",
            "Requirement already satisfied: six in /usr/local/lib/python3.10/dist-packages (from fire->shap-e==0.0.0) (1.16.0)\n",
            "Requirement already satisfied: termcolor in /usr/local/lib/python3.10/dist-packages (from fire->shap-e==0.0.0) (2.4.0)\n",
            "Requirement already satisfied: contourpy>=1.0.1 in /usr/local/lib/python3.10/dist-packages (from matplotlib->shap-e==0.0.0) (1.2.1)\n",
            "Requirement already satisfied: cycler>=0.10 in /usr/local/lib/python3.10/dist-packages (from matplotlib->shap-e==0.0.0) (0.12.1)\n",
            "Requirement already satisfied: fonttools>=4.22.0 in /usr/local/lib/python3.10/dist-packages (from matplotlib->shap-e==0.0.0) (4.53.1)\n",
            "Requirement already satisfied: kiwisolver>=1.0.1 in /usr/local/lib/python3.10/dist-packages (from matplotlib->shap-e==0.0.0) (1.4.5)\n",
            "Requirement already satisfied: pyparsing>=2.3.1 in /usr/local/lib/python3.10/dist-packages (from matplotlib->shap-e==0.0.0) (3.1.2)\n",
            "Requirement already satisfied: python-dateutil>=2.7 in /usr/local/lib/python3.10/dist-packages (from matplotlib->shap-e==0.0.0) (2.8.2)\n",
            "Requirement already satisfied: charset-normalizer<4,>=2 in /usr/local/lib/python3.10/dist-packages (from requests->shap-e==0.0.0) (3.3.2)\n",
            "Requirement already satisfied: idna<4,>=2.5 in /usr/local/lib/python3.10/dist-packages (from requests->shap-e==0.0.0) (3.7)\n",
            "Requirement already satisfied: certifi>=2017.4.17 in /usr/local/lib/python3.10/dist-packages (from requests->shap-e==0.0.0) (2024.7.4)\n",
            "Requirement already satisfied: networkx>=2.2 in /usr/local/lib/python3.10/dist-packages (from scikit-image->shap-e==0.0.0) (3.3)\n",
            "Requirement already satisfied: imageio>=2.4.1 in /usr/local/lib/python3.10/dist-packages (from scikit-image->shap-e==0.0.0) (2.31.6)\n",
            "Requirement already satisfied: tifffile>=2019.7.26 in /usr/local/lib/python3.10/dist-packages (from scikit-image->shap-e==0.0.0) (2024.7.2)\n",
            "Requirement already satisfied: PyWavelets>=1.1.1 in /usr/local/lib/python3.10/dist-packages (from scikit-image->shap-e==0.0.0) (1.6.0)\n",
            "Requirement already satisfied: typing-extensions>=4.8.0 in /usr/local/lib/python3.10/dist-packages (from torch->shap-e==0.0.0) (4.12.2)\n",
            "Requirement already satisfied: sympy in /usr/local/lib/python3.10/dist-packages (from torch->shap-e==0.0.0) (1.13.0)\n",
            "Requirement already satisfied: jinja2 in /usr/local/lib/python3.10/dist-packages (from torch->shap-e==0.0.0) (3.1.4)\n",
            "Requirement already satisfied: fsspec in /usr/local/lib/python3.10/dist-packages (from torch->shap-e==0.0.0) (2023.6.0)\n",
            "Collecting nvidia-cuda-nvrtc-cu12==12.1.105 (from torch->shap-e==0.0.0)\n",
            "  Using cached nvidia_cuda_nvrtc_cu12-12.1.105-py3-none-manylinux1_x86_64.whl (23.7 MB)\n",
            "Collecting nvidia-cuda-runtime-cu12==12.1.105 (from torch->shap-e==0.0.0)\n",
            "  Using cached nvidia_cuda_runtime_cu12-12.1.105-py3-none-manylinux1_x86_64.whl (823 kB)\n",
            "Collecting nvidia-cuda-cupti-cu12==12.1.105 (from torch->shap-e==0.0.0)\n",
            "  Using cached nvidia_cuda_cupti_cu12-12.1.105-py3-none-manylinux1_x86_64.whl (14.1 MB)\n",
            "Collecting nvidia-cudnn-cu12==8.9.2.26 (from torch->shap-e==0.0.0)\n",
            "  Using cached nvidia_cudnn_cu12-8.9.2.26-py3-none-manylinux1_x86_64.whl (731.7 MB)\n",
            "Collecting nvidia-cublas-cu12==12.1.3.1 (from torch->shap-e==0.0.0)\n",
            "  Using cached nvidia_cublas_cu12-12.1.3.1-py3-none-manylinux1_x86_64.whl (410.6 MB)\n",
            "Collecting nvidia-cufft-cu12==11.0.2.54 (from torch->shap-e==0.0.0)\n",
            "  Using cached nvidia_cufft_cu12-11.0.2.54-py3-none-manylinux1_x86_64.whl (121.6 MB)\n",
            "Collecting nvidia-curand-cu12==10.3.2.106 (from torch->shap-e==0.0.0)\n",
            "  Using cached nvidia_curand_cu12-10.3.2.106-py3-none-manylinux1_x86_64.whl (56.5 MB)\n",
            "Collecting nvidia-cusolver-cu12==11.4.5.107 (from torch->shap-e==0.0.0)\n",
            "  Using cached nvidia_cusolver_cu12-11.4.5.107-py3-none-manylinux1_x86_64.whl (124.2 MB)\n",
            "Collecting nvidia-cusparse-cu12==12.1.0.106 (from torch->shap-e==0.0.0)\n",
            "  Using cached nvidia_cusparse_cu12-12.1.0.106-py3-none-manylinux1_x86_64.whl (196.0 MB)\n",
            "Collecting nvidia-nccl-cu12==2.20.5 (from torch->shap-e==0.0.0)\n",
            "  Using cached nvidia_nccl_cu12-2.20.5-py3-none-manylinux2014_x86_64.whl (176.2 MB)\n",
            "Collecting nvidia-nvtx-cu12==12.1.105 (from torch->shap-e==0.0.0)\n",
            "  Using cached nvidia_nvtx_cu12-12.1.105-py3-none-manylinux1_x86_64.whl (99 kB)\n",
            "Requirement already satisfied: triton==2.3.1 in /usr/local/lib/python3.10/dist-packages (from torch->shap-e==0.0.0) (2.3.1)\n",
            "Collecting nvidia-nvjitlink-cu12 (from nvidia-cusolver-cu12==11.4.5.107->torch->shap-e==0.0.0)\n",
            "  Downloading nvidia_nvjitlink_cu12-12.5.82-py3-none-manylinux2014_x86_64.whl (21.3 MB)\n",
            "\u001b[2K     \u001b[90m━━━━━━━━━━━━━━━━━━━━━━━━━━━━━━━━━━━━━━━━\u001b[0m \u001b[32m21.3/21.3 MB\u001b[0m \u001b[31m68.5 MB/s\u001b[0m eta \u001b[36m0:00:00\u001b[0m\n",
            "\u001b[?25hRequirement already satisfied: wcwidth<0.3.0,>=0.2.12 in /usr/local/lib/python3.10/dist-packages (from ftfy->clip@ git+https://github.com/openai/CLIP.git->shap-e==0.0.0) (0.2.13)\n",
            "Requirement already satisfied: MarkupSafe>=2.0 in /usr/local/lib/python3.10/dist-packages (from jinja2->torch->shap-e==0.0.0) (2.1.5)\n",
            "Requirement already satisfied: mpmath<1.4,>=1.1.0 in /usr/local/lib/python3.10/dist-packages (from sympy->torch->shap-e==0.0.0) (1.3.0)\n",
            "Building wheels for collected packages: clip, fire\n",
            "  Building wheel for clip (setup.py) ... \u001b[?25l\u001b[?25hdone\n",
            "  Created wheel for clip: filename=clip-1.0-py3-none-any.whl size=1369490 sha256=ea2fcd93eb06e17fc7daf4bc1309c72f2847daca35e7c06e17cd1f5dd971a770\n",
            "  Stored in directory: /tmp/pip-ephem-wheel-cache-wxrkt9xd/wheels/da/2b/4c/d6691fa9597aac8bb85d2ac13b112deb897d5b50f5ad9a37e4\n",
            "  Building wheel for fire (setup.py) ... \u001b[?25l\u001b[?25hdone\n",
            "  Created wheel for fire: filename=fire-0.6.0-py2.py3-none-any.whl size=117029 sha256=5776ac717feb2078e582e565c16eb08f8c4aab5b5af3bb8c272c764f3d2568f8\n",
            "  Stored in directory: /root/.cache/pip/wheels/d6/6d/5d/5b73fa0f46d01a793713f8859201361e9e581ced8c75e5c6a3\n",
            "Successfully built clip fire\n",
            "Installing collected packages: pycryptodomex, nvidia-nvtx-cu12, nvidia-nvjitlink-cu12, nvidia-nccl-cu12, nvidia-curand-cu12, nvidia-cufft-cu12, nvidia-cuda-runtime-cu12, nvidia-cuda-nvrtc-cu12, nvidia-cuda-cupti-cu12, nvidia-cublas-cu12, ftfy, fire, nvidia-cusparse-cu12, nvidia-cudnn-cu12, blobfile, nvidia-cusolver-cu12, clip, shap-e\n",
            "  Running setup.py develop for shap-e\n",
            "Successfully installed blobfile-2.1.1 clip-1.0 fire-0.6.0 ftfy-6.2.0 nvidia-cublas-cu12-12.1.3.1 nvidia-cuda-cupti-cu12-12.1.105 nvidia-cuda-nvrtc-cu12-12.1.105 nvidia-cuda-runtime-cu12-12.1.105 nvidia-cudnn-cu12-8.9.2.26 nvidia-cufft-cu12-11.0.2.54 nvidia-curand-cu12-10.3.2.106 nvidia-cusolver-cu12-11.4.5.107 nvidia-cusparse-cu12-12.1.0.106 nvidia-nccl-cu12-2.20.5 nvidia-nvjitlink-cu12-12.5.82 nvidia-nvtx-cu12-12.1.105 pycryptodomex-3.20.0 shap-e-0.0.0\n"
          ]
        }
      ]
    },
    {
      "cell_type": "code",
      "source": [
        "import torch\n",
        "\n",
        "from shap_e.diffusion.sample import sample_latents\n",
        "from shap_e.diffusion.gaussian_diffusion import diffusion_from_config\n",
        "from shap_e.models.download import load_model, load_config\n",
        "from shap_e.util.notebooks import create_pan_cameras, decode_latent_images, gif_widget"
      ],
      "metadata": {
        "id": "cBX1WHwiOL-p"
      },
      "execution_count": 4,
      "outputs": []
    },
    {
      "cell_type": "code",
      "source": [
        "device = torch.device('cuda' if torch.cuda.is_available() else 'cpu')"
      ],
      "metadata": {
        "id": "H9u87BEmOdXv"
      },
      "execution_count": 5,
      "outputs": []
    },
    {
      "cell_type": "code",
      "source": [
        "xm = load_model('transmitter', device=device)\n",
        "model = load_model('text300M', device=device)\n",
        "diffusion = diffusion_from_config(load_config('diffusion'))"
      ],
      "metadata": {
        "id": "Dqkiv5AVOk7_",
        "colab": {
          "base_uri": "https://localhost:8080/",
          "height": 98,
          "referenced_widgets": [
            "98e73617c4e7487a946d5e905bae20d1",
            "4b31288188d14403a89fb446d177229e",
            "4fa43592af924cbca8d79f1259e2d3a9",
            "3bd332afd5df4f58af590f173c723c19",
            "2ec6dcf58ade4400a4aaed724b5f63a6",
            "01435b36e52e4f12bf95c2e768f88080",
            "e169b84e1b0f406bb42513cfb48b6c2a",
            "80c1dfb18c924b0996fdfec7c4f342a6",
            "71e07fa0dfaa46a7b2b8d74a117d753a",
            "65c60d01d66947168484fb0d90296d38",
            "f8a585318f514306a955562dbd5020ca",
            "f2eb65f3e86d496ca1108697b64a8825",
            "ebe1b48efac3485bbf6247c7bab01a26",
            "e2a2999c6b7345ad9bb8a47bf0be4004",
            "479b3fd82130400892cd985e9eb107d7",
            "1fa2ef8c26874ae79be4be61299d930c",
            "7b48682a79674dccb6b5e05a58973f3f",
            "75a7e7c6506e441aa184a6e72227c70d",
            "17e3fe0d67ef471095ee763c1e6de660",
            "8759f8208f594b9bb9cae54102315233",
            "5f4fafdba6724ec19f309025e56b7e1e",
            "2c6ae3c270ce439b9f3de60630abde6e"
          ]
        },
        "outputId": "2abc06e8-118c-4dc3-e612-52aa1091e160"
      },
      "execution_count": 6,
      "outputs": [
        {
          "output_type": "display_data",
          "data": {
            "text/plain": [
              "  0%|          | 0.00/1.78G [00:00<?, ?iB/s]"
            ],
            "application/vnd.jupyter.widget-view+json": {
              "version_major": 2,
              "version_minor": 0,
              "model_id": "98e73617c4e7487a946d5e905bae20d1"
            }
          },
          "metadata": {}
        },
        {
          "output_type": "stream",
          "name": "stderr",
          "text": [
            "100%|███████████████████████████████████████| 890M/890M [00:10<00:00, 89.1MiB/s]\n"
          ]
        },
        {
          "output_type": "display_data",
          "data": {
            "text/plain": [
              "  0%|          | 0.00/1.26G [00:00<?, ?iB/s]"
            ],
            "application/vnd.jupyter.widget-view+json": {
              "version_major": 2,
              "version_minor": 0,
              "model_id": "f2eb65f3e86d496ca1108697b64a8825"
            }
          },
          "metadata": {}
        }
      ]
    },
    {
      "cell_type": "code",
      "source": [
        "batch_size = 1\n",
        "guidance_scale = 15.0\n",
        "prompt = \"a water bottle\"\n",
        "\n",
        "latents = sample_latents(\n",
        "    batch_size=batch_size,\n",
        "    model=model,\n",
        "    diffusion=diffusion,\n",
        "    guidance_scale=guidance_scale,\n",
        "    model_kwargs=dict(texts=[prompt] * batch_size),\n",
        "    progress=True,\n",
        "    clip_denoised=True,\n",
        "    use_fp16=True,\n",
        "    use_karras=True,\n",
        "    karras_steps=128,\n",
        "    sigma_min=1e-3,\n",
        "    sigma_max=160,\n",
        "    s_churn=0,\n",
        ")"
      ],
      "metadata": {
        "id": "mWwUoNlgOmOy",
        "colab": {
          "base_uri": "https://localhost:8080/",
          "height": 49,
          "referenced_widgets": [
            "2344affa826c4fcca06390833127f415",
            "618015fff35f45c7b03201f537592ecb",
            "334921f943a54827a5dd503d1d48d16a",
            "e0620a3cf5bc4723b3726cc6d400b618",
            "c359f6c4d5974668acd71db9cebc6841",
            "94b0b8af0c024cf4b65adef4d6e9da96",
            "6470bdeb999841c78290e8359b84e67a",
            "af33d149e5ef4564a8a3d60c6aeb6f04",
            "af2029ede1e6461eba9dc348a8648a05",
            "b9622bb4228b44d3a69a88f37037c2e8",
            "35de9e9c0e3d493e972c9232844eab46"
          ]
        },
        "outputId": "9e0dad7e-f08b-41e6-ffe7-9735922a7a21"
      },
      "execution_count": 11,
      "outputs": [
        {
          "output_type": "display_data",
          "data": {
            "text/plain": [
              "  0%|          | 0/128 [00:00<?, ?it/s]"
            ],
            "application/vnd.jupyter.widget-view+json": {
              "version_major": 2,
              "version_minor": 0,
              "model_id": "2344affa826c4fcca06390833127f415"
            }
          },
          "metadata": {}
        }
      ]
    },
    {
      "cell_type": "code",
      "source": [
        "render_mode = 'nerf' # you can change this to 'stf'\n",
        "size = 64 # this is the size of the renders; higher values take longer to render.\n",
        "\n",
        "cameras = create_pan_cameras(size, device)\n",
        "for i, latent in enumerate(latents):\n",
        "    images = decode_latent_images(xm, latent, cameras, rendering_mode=render_mode)\n",
        "    display(gif_widget(images))"
      ],
      "metadata": {
        "id": "lzjXWU7DP_SI",
        "colab": {
          "base_uri": "https://localhost:8080/",
          "height": 95,
          "referenced_widgets": [
            "a8debd682d664d93884b35c631ecae35",
            "c8be750994154e17ac3c68fbaa5f7ca6",
            "7776f358f0d2453390e6166477a0c0c0"
          ]
        },
        "outputId": "b7a6bbcf-276e-4c9e-b98a-c571dac50c9f"
      },
      "execution_count": 12,
      "outputs": [
        {
          "output_type": "display_data",
          "data": {
            "text/plain": [
              "HTML(value='<img src=\"data:image/gif;base64,R0lGODlhQABAAIcAADOk1DGfzjKcxzCcyzGbyjGaxzKawi+ayDCZxS+Zxy+ZxS+YxT…"
            ],
            "application/vnd.jupyter.widget-view+json": {
              "version_major": 2,
              "version_minor": 0,
              "model_id": "a8debd682d664d93884b35c631ecae35"
            }
          },
          "metadata": {}
        }
      ]
    },
    {
      "cell_type": "code",
      "source": [
        "# Example of saving the latents as meshes.\n",
        "from shap_e.util.notebooks import decode_latent_mesh\n",
        "\n",
        "for i, latent in enumerate(latents):\n",
        "    t = decode_latent_mesh(xm, latent).tri_mesh()\n",
        "    with open(f'spaceship_{i}.obj', 'w') as f:\n",
        "        t.write_obj(f)"
      ],
      "metadata": {
        "id": "B9POyt0IQlsk"
      },
      "execution_count": 13,
      "outputs": []
    },
    {
      "cell_type": "code",
      "source": [
        "from google.colab import files\n",
        "from shap_e.util.notebooks import decode_latent_mesh\n",
        "\n",
        "\n",
        "# Download the file\n",
        "files.download(f'spaceship_{i}.obj')\n"
      ],
      "metadata": {
        "id": "GomiPJVNRdGD",
        "colab": {
          "base_uri": "https://localhost:8080/",
          "height": 17
        },
        "outputId": "48c81156-704a-47c0-b201-ccd193fc8789"
      },
      "execution_count": 14,
      "outputs": [
        {
          "output_type": "display_data",
          "data": {
            "text/plain": [
              "<IPython.core.display.Javascript object>"
            ],
            "application/javascript": [
              "\n",
              "    async function download(id, filename, size) {\n",
              "      if (!google.colab.kernel.accessAllowed) {\n",
              "        return;\n",
              "      }\n",
              "      const div = document.createElement('div');\n",
              "      const label = document.createElement('label');\n",
              "      label.textContent = `Downloading \"${filename}\": `;\n",
              "      div.appendChild(label);\n",
              "      const progress = document.createElement('progress');\n",
              "      progress.max = size;\n",
              "      div.appendChild(progress);\n",
              "      document.body.appendChild(div);\n",
              "\n",
              "      const buffers = [];\n",
              "      let downloaded = 0;\n",
              "\n",
              "      const channel = await google.colab.kernel.comms.open(id);\n",
              "      // Send a message to notify the kernel that we're ready.\n",
              "      channel.send({})\n",
              "\n",
              "      for await (const message of channel.messages) {\n",
              "        // Send a message to notify the kernel that we're ready.\n",
              "        channel.send({})\n",
              "        if (message.buffers) {\n",
              "          for (const buffer of message.buffers) {\n",
              "            buffers.push(buffer);\n",
              "            downloaded += buffer.byteLength;\n",
              "            progress.value = downloaded;\n",
              "          }\n",
              "        }\n",
              "      }\n",
              "      const blob = new Blob(buffers, {type: 'application/binary'});\n",
              "      const a = document.createElement('a');\n",
              "      a.href = window.URL.createObjectURL(blob);\n",
              "      a.download = filename;\n",
              "      div.appendChild(a);\n",
              "      a.click();\n",
              "      div.remove();\n",
              "    }\n",
              "  "
            ]
          },
          "metadata": {}
        },
        {
          "output_type": "display_data",
          "data": {
            "text/plain": [
              "<IPython.core.display.Javascript object>"
            ],
            "application/javascript": [
              "download(\"download_48cb0fc2-d874-4fc6-846a-84a79f594561\", \"spaceship_0.obj\", 7278982)"
            ]
          },
          "metadata": {}
        }
      ]
    }
  ],
  "metadata": {
    "accelerator": "GPU",
    "colab": {
      "provenance": [],
      "gpuType": "T4"
    },
    "kernelspec": {
      "display_name": "Python 3",
      "name": "python3"
    },
    "language_info": {
      "name": "python"
    },
    "widgets": {
      "application/vnd.jupyter.widget-state+json": {
        "98e73617c4e7487a946d5e905bae20d1": {
          "model_module": "@jupyter-widgets/controls",
          "model_name": "HBoxModel",
          "model_module_version": "1.5.0",
          "state": {
            "_dom_classes": [],
            "_model_module": "@jupyter-widgets/controls",
            "_model_module_version": "1.5.0",
            "_model_name": "HBoxModel",
            "_view_count": null,
            "_view_module": "@jupyter-widgets/controls",
            "_view_module_version": "1.5.0",
            "_view_name": "HBoxView",
            "box_style": "",
            "children": [
              "IPY_MODEL_4b31288188d14403a89fb446d177229e",
              "IPY_MODEL_4fa43592af924cbca8d79f1259e2d3a9",
              "IPY_MODEL_3bd332afd5df4f58af590f173c723c19"
            ],
            "layout": "IPY_MODEL_2ec6dcf58ade4400a4aaed724b5f63a6"
          }
        },
        "4b31288188d14403a89fb446d177229e": {
          "model_module": "@jupyter-widgets/controls",
          "model_name": "HTMLModel",
          "model_module_version": "1.5.0",
          "state": {
            "_dom_classes": [],
            "_model_module": "@jupyter-widgets/controls",
            "_model_module_version": "1.5.0",
            "_model_name": "HTMLModel",
            "_view_count": null,
            "_view_module": "@jupyter-widgets/controls",
            "_view_module_version": "1.5.0",
            "_view_name": "HTMLView",
            "description": "",
            "description_tooltip": null,
            "layout": "IPY_MODEL_01435b36e52e4f12bf95c2e768f88080",
            "placeholder": "​",
            "style": "IPY_MODEL_e169b84e1b0f406bb42513cfb48b6c2a",
            "value": "100%"
          }
        },
        "4fa43592af924cbca8d79f1259e2d3a9": {
          "model_module": "@jupyter-widgets/controls",
          "model_name": "FloatProgressModel",
          "model_module_version": "1.5.0",
          "state": {
            "_dom_classes": [],
            "_model_module": "@jupyter-widgets/controls",
            "_model_module_version": "1.5.0",
            "_model_name": "FloatProgressModel",
            "_view_count": null,
            "_view_module": "@jupyter-widgets/controls",
            "_view_module_version": "1.5.0",
            "_view_name": "ProgressView",
            "bar_style": "success",
            "description": "",
            "description_tooltip": null,
            "layout": "IPY_MODEL_80c1dfb18c924b0996fdfec7c4f342a6",
            "max": 1776048343,
            "min": 0,
            "orientation": "horizontal",
            "style": "IPY_MODEL_71e07fa0dfaa46a7b2b8d74a117d753a",
            "value": 1776048343
          }
        },
        "3bd332afd5df4f58af590f173c723c19": {
          "model_module": "@jupyter-widgets/controls",
          "model_name": "HTMLModel",
          "model_module_version": "1.5.0",
          "state": {
            "_dom_classes": [],
            "_model_module": "@jupyter-widgets/controls",
            "_model_module_version": "1.5.0",
            "_model_name": "HTMLModel",
            "_view_count": null,
            "_view_module": "@jupyter-widgets/controls",
            "_view_module_version": "1.5.0",
            "_view_name": "HTMLView",
            "description": "",
            "description_tooltip": null,
            "layout": "IPY_MODEL_65c60d01d66947168484fb0d90296d38",
            "placeholder": "​",
            "style": "IPY_MODEL_f8a585318f514306a955562dbd5020ca",
            "value": " 1.78G/1.78G [00:21&lt;00:00, 93.3MiB/s]"
          }
        },
        "2ec6dcf58ade4400a4aaed724b5f63a6": {
          "model_module": "@jupyter-widgets/base",
          "model_name": "LayoutModel",
          "model_module_version": "1.2.0",
          "state": {
            "_model_module": "@jupyter-widgets/base",
            "_model_module_version": "1.2.0",
            "_model_name": "LayoutModel",
            "_view_count": null,
            "_view_module": "@jupyter-widgets/base",
            "_view_module_version": "1.2.0",
            "_view_name": "LayoutView",
            "align_content": null,
            "align_items": null,
            "align_self": null,
            "border": null,
            "bottom": null,
            "display": null,
            "flex": null,
            "flex_flow": null,
            "grid_area": null,
            "grid_auto_columns": null,
            "grid_auto_flow": null,
            "grid_auto_rows": null,
            "grid_column": null,
            "grid_gap": null,
            "grid_row": null,
            "grid_template_areas": null,
            "grid_template_columns": null,
            "grid_template_rows": null,
            "height": null,
            "justify_content": null,
            "justify_items": null,
            "left": null,
            "margin": null,
            "max_height": null,
            "max_width": null,
            "min_height": null,
            "min_width": null,
            "object_fit": null,
            "object_position": null,
            "order": null,
            "overflow": null,
            "overflow_x": null,
            "overflow_y": null,
            "padding": null,
            "right": null,
            "top": null,
            "visibility": null,
            "width": null
          }
        },
        "01435b36e52e4f12bf95c2e768f88080": {
          "model_module": "@jupyter-widgets/base",
          "model_name": "LayoutModel",
          "model_module_version": "1.2.0",
          "state": {
            "_model_module": "@jupyter-widgets/base",
            "_model_module_version": "1.2.0",
            "_model_name": "LayoutModel",
            "_view_count": null,
            "_view_module": "@jupyter-widgets/base",
            "_view_module_version": "1.2.0",
            "_view_name": "LayoutView",
            "align_content": null,
            "align_items": null,
            "align_self": null,
            "border": null,
            "bottom": null,
            "display": null,
            "flex": null,
            "flex_flow": null,
            "grid_area": null,
            "grid_auto_columns": null,
            "grid_auto_flow": null,
            "grid_auto_rows": null,
            "grid_column": null,
            "grid_gap": null,
            "grid_row": null,
            "grid_template_areas": null,
            "grid_template_columns": null,
            "grid_template_rows": null,
            "height": null,
            "justify_content": null,
            "justify_items": null,
            "left": null,
            "margin": null,
            "max_height": null,
            "max_width": null,
            "min_height": null,
            "min_width": null,
            "object_fit": null,
            "object_position": null,
            "order": null,
            "overflow": null,
            "overflow_x": null,
            "overflow_y": null,
            "padding": null,
            "right": null,
            "top": null,
            "visibility": null,
            "width": null
          }
        },
        "e169b84e1b0f406bb42513cfb48b6c2a": {
          "model_module": "@jupyter-widgets/controls",
          "model_name": "DescriptionStyleModel",
          "model_module_version": "1.5.0",
          "state": {
            "_model_module": "@jupyter-widgets/controls",
            "_model_module_version": "1.5.0",
            "_model_name": "DescriptionStyleModel",
            "_view_count": null,
            "_view_module": "@jupyter-widgets/base",
            "_view_module_version": "1.2.0",
            "_view_name": "StyleView",
            "description_width": ""
          }
        },
        "80c1dfb18c924b0996fdfec7c4f342a6": {
          "model_module": "@jupyter-widgets/base",
          "model_name": "LayoutModel",
          "model_module_version": "1.2.0",
          "state": {
            "_model_module": "@jupyter-widgets/base",
            "_model_module_version": "1.2.0",
            "_model_name": "LayoutModel",
            "_view_count": null,
            "_view_module": "@jupyter-widgets/base",
            "_view_module_version": "1.2.0",
            "_view_name": "LayoutView",
            "align_content": null,
            "align_items": null,
            "align_self": null,
            "border": null,
            "bottom": null,
            "display": null,
            "flex": null,
            "flex_flow": null,
            "grid_area": null,
            "grid_auto_columns": null,
            "grid_auto_flow": null,
            "grid_auto_rows": null,
            "grid_column": null,
            "grid_gap": null,
            "grid_row": null,
            "grid_template_areas": null,
            "grid_template_columns": null,
            "grid_template_rows": null,
            "height": null,
            "justify_content": null,
            "justify_items": null,
            "left": null,
            "margin": null,
            "max_height": null,
            "max_width": null,
            "min_height": null,
            "min_width": null,
            "object_fit": null,
            "object_position": null,
            "order": null,
            "overflow": null,
            "overflow_x": null,
            "overflow_y": null,
            "padding": null,
            "right": null,
            "top": null,
            "visibility": null,
            "width": null
          }
        },
        "71e07fa0dfaa46a7b2b8d74a117d753a": {
          "model_module": "@jupyter-widgets/controls",
          "model_name": "ProgressStyleModel",
          "model_module_version": "1.5.0",
          "state": {
            "_model_module": "@jupyter-widgets/controls",
            "_model_module_version": "1.5.0",
            "_model_name": "ProgressStyleModel",
            "_view_count": null,
            "_view_module": "@jupyter-widgets/base",
            "_view_module_version": "1.2.0",
            "_view_name": "StyleView",
            "bar_color": null,
            "description_width": ""
          }
        },
        "65c60d01d66947168484fb0d90296d38": {
          "model_module": "@jupyter-widgets/base",
          "model_name": "LayoutModel",
          "model_module_version": "1.2.0",
          "state": {
            "_model_module": "@jupyter-widgets/base",
            "_model_module_version": "1.2.0",
            "_model_name": "LayoutModel",
            "_view_count": null,
            "_view_module": "@jupyter-widgets/base",
            "_view_module_version": "1.2.0",
            "_view_name": "LayoutView",
            "align_content": null,
            "align_items": null,
            "align_self": null,
            "border": null,
            "bottom": null,
            "display": null,
            "flex": null,
            "flex_flow": null,
            "grid_area": null,
            "grid_auto_columns": null,
            "grid_auto_flow": null,
            "grid_auto_rows": null,
            "grid_column": null,
            "grid_gap": null,
            "grid_row": null,
            "grid_template_areas": null,
            "grid_template_columns": null,
            "grid_template_rows": null,
            "height": null,
            "justify_content": null,
            "justify_items": null,
            "left": null,
            "margin": null,
            "max_height": null,
            "max_width": null,
            "min_height": null,
            "min_width": null,
            "object_fit": null,
            "object_position": null,
            "order": null,
            "overflow": null,
            "overflow_x": null,
            "overflow_y": null,
            "padding": null,
            "right": null,
            "top": null,
            "visibility": null,
            "width": null
          }
        },
        "f8a585318f514306a955562dbd5020ca": {
          "model_module": "@jupyter-widgets/controls",
          "model_name": "DescriptionStyleModel",
          "model_module_version": "1.5.0",
          "state": {
            "_model_module": "@jupyter-widgets/controls",
            "_model_module_version": "1.5.0",
            "_model_name": "DescriptionStyleModel",
            "_view_count": null,
            "_view_module": "@jupyter-widgets/base",
            "_view_module_version": "1.2.0",
            "_view_name": "StyleView",
            "description_width": ""
          }
        },
        "f2eb65f3e86d496ca1108697b64a8825": {
          "model_module": "@jupyter-widgets/controls",
          "model_name": "HBoxModel",
          "model_module_version": "1.5.0",
          "state": {
            "_dom_classes": [],
            "_model_module": "@jupyter-widgets/controls",
            "_model_module_version": "1.5.0",
            "_model_name": "HBoxModel",
            "_view_count": null,
            "_view_module": "@jupyter-widgets/controls",
            "_view_module_version": "1.5.0",
            "_view_name": "HBoxView",
            "box_style": "",
            "children": [
              "IPY_MODEL_ebe1b48efac3485bbf6247c7bab01a26",
              "IPY_MODEL_e2a2999c6b7345ad9bb8a47bf0be4004",
              "IPY_MODEL_479b3fd82130400892cd985e9eb107d7"
            ],
            "layout": "IPY_MODEL_1fa2ef8c26874ae79be4be61299d930c"
          }
        },
        "ebe1b48efac3485bbf6247c7bab01a26": {
          "model_module": "@jupyter-widgets/controls",
          "model_name": "HTMLModel",
          "model_module_version": "1.5.0",
          "state": {
            "_dom_classes": [],
            "_model_module": "@jupyter-widgets/controls",
            "_model_module_version": "1.5.0",
            "_model_name": "HTMLModel",
            "_view_count": null,
            "_view_module": "@jupyter-widgets/controls",
            "_view_module_version": "1.5.0",
            "_view_name": "HTMLView",
            "description": "",
            "description_tooltip": null,
            "layout": "IPY_MODEL_7b48682a79674dccb6b5e05a58973f3f",
            "placeholder": "​",
            "style": "IPY_MODEL_75a7e7c6506e441aa184a6e72227c70d",
            "value": "100%"
          }
        },
        "e2a2999c6b7345ad9bb8a47bf0be4004": {
          "model_module": "@jupyter-widgets/controls",
          "model_name": "FloatProgressModel",
          "model_module_version": "1.5.0",
          "state": {
            "_dom_classes": [],
            "_model_module": "@jupyter-widgets/controls",
            "_model_module_version": "1.5.0",
            "_model_name": "FloatProgressModel",
            "_view_count": null,
            "_view_module": "@jupyter-widgets/controls",
            "_view_module_version": "1.5.0",
            "_view_name": "ProgressView",
            "bar_style": "success",
            "description": "",
            "description_tooltip": null,
            "layout": "IPY_MODEL_17e3fe0d67ef471095ee763c1e6de660",
            "max": 1262868003,
            "min": 0,
            "orientation": "horizontal",
            "style": "IPY_MODEL_8759f8208f594b9bb9cae54102315233",
            "value": 1262868003
          }
        },
        "479b3fd82130400892cd985e9eb107d7": {
          "model_module": "@jupyter-widgets/controls",
          "model_name": "HTMLModel",
          "model_module_version": "1.5.0",
          "state": {
            "_dom_classes": [],
            "_model_module": "@jupyter-widgets/controls",
            "_model_module_version": "1.5.0",
            "_model_name": "HTMLModel",
            "_view_count": null,
            "_view_module": "@jupyter-widgets/controls",
            "_view_module_version": "1.5.0",
            "_view_name": "HTMLView",
            "description": "",
            "description_tooltip": null,
            "layout": "IPY_MODEL_5f4fafdba6724ec19f309025e56b7e1e",
            "placeholder": "​",
            "style": "IPY_MODEL_2c6ae3c270ce439b9f3de60630abde6e",
            "value": " 1.26G/1.26G [00:20&lt;00:00, 73.0MiB/s]"
          }
        },
        "1fa2ef8c26874ae79be4be61299d930c": {
          "model_module": "@jupyter-widgets/base",
          "model_name": "LayoutModel",
          "model_module_version": "1.2.0",
          "state": {
            "_model_module": "@jupyter-widgets/base",
            "_model_module_version": "1.2.0",
            "_model_name": "LayoutModel",
            "_view_count": null,
            "_view_module": "@jupyter-widgets/base",
            "_view_module_version": "1.2.0",
            "_view_name": "LayoutView",
            "align_content": null,
            "align_items": null,
            "align_self": null,
            "border": null,
            "bottom": null,
            "display": null,
            "flex": null,
            "flex_flow": null,
            "grid_area": null,
            "grid_auto_columns": null,
            "grid_auto_flow": null,
            "grid_auto_rows": null,
            "grid_column": null,
            "grid_gap": null,
            "grid_row": null,
            "grid_template_areas": null,
            "grid_template_columns": null,
            "grid_template_rows": null,
            "height": null,
            "justify_content": null,
            "justify_items": null,
            "left": null,
            "margin": null,
            "max_height": null,
            "max_width": null,
            "min_height": null,
            "min_width": null,
            "object_fit": null,
            "object_position": null,
            "order": null,
            "overflow": null,
            "overflow_x": null,
            "overflow_y": null,
            "padding": null,
            "right": null,
            "top": null,
            "visibility": null,
            "width": null
          }
        },
        "7b48682a79674dccb6b5e05a58973f3f": {
          "model_module": "@jupyter-widgets/base",
          "model_name": "LayoutModel",
          "model_module_version": "1.2.0",
          "state": {
            "_model_module": "@jupyter-widgets/base",
            "_model_module_version": "1.2.0",
            "_model_name": "LayoutModel",
            "_view_count": null,
            "_view_module": "@jupyter-widgets/base",
            "_view_module_version": "1.2.0",
            "_view_name": "LayoutView",
            "align_content": null,
            "align_items": null,
            "align_self": null,
            "border": null,
            "bottom": null,
            "display": null,
            "flex": null,
            "flex_flow": null,
            "grid_area": null,
            "grid_auto_columns": null,
            "grid_auto_flow": null,
            "grid_auto_rows": null,
            "grid_column": null,
            "grid_gap": null,
            "grid_row": null,
            "grid_template_areas": null,
            "grid_template_columns": null,
            "grid_template_rows": null,
            "height": null,
            "justify_content": null,
            "justify_items": null,
            "left": null,
            "margin": null,
            "max_height": null,
            "max_width": null,
            "min_height": null,
            "min_width": null,
            "object_fit": null,
            "object_position": null,
            "order": null,
            "overflow": null,
            "overflow_x": null,
            "overflow_y": null,
            "padding": null,
            "right": null,
            "top": null,
            "visibility": null,
            "width": null
          }
        },
        "75a7e7c6506e441aa184a6e72227c70d": {
          "model_module": "@jupyter-widgets/controls",
          "model_name": "DescriptionStyleModel",
          "model_module_version": "1.5.0",
          "state": {
            "_model_module": "@jupyter-widgets/controls",
            "_model_module_version": "1.5.0",
            "_model_name": "DescriptionStyleModel",
            "_view_count": null,
            "_view_module": "@jupyter-widgets/base",
            "_view_module_version": "1.2.0",
            "_view_name": "StyleView",
            "description_width": ""
          }
        },
        "17e3fe0d67ef471095ee763c1e6de660": {
          "model_module": "@jupyter-widgets/base",
          "model_name": "LayoutModel",
          "model_module_version": "1.2.0",
          "state": {
            "_model_module": "@jupyter-widgets/base",
            "_model_module_version": "1.2.0",
            "_model_name": "LayoutModel",
            "_view_count": null,
            "_view_module": "@jupyter-widgets/base",
            "_view_module_version": "1.2.0",
            "_view_name": "LayoutView",
            "align_content": null,
            "align_items": null,
            "align_self": null,
            "border": null,
            "bottom": null,
            "display": null,
            "flex": null,
            "flex_flow": null,
            "grid_area": null,
            "grid_auto_columns": null,
            "grid_auto_flow": null,
            "grid_auto_rows": null,
            "grid_column": null,
            "grid_gap": null,
            "grid_row": null,
            "grid_template_areas": null,
            "grid_template_columns": null,
            "grid_template_rows": null,
            "height": null,
            "justify_content": null,
            "justify_items": null,
            "left": null,
            "margin": null,
            "max_height": null,
            "max_width": null,
            "min_height": null,
            "min_width": null,
            "object_fit": null,
            "object_position": null,
            "order": null,
            "overflow": null,
            "overflow_x": null,
            "overflow_y": null,
            "padding": null,
            "right": null,
            "top": null,
            "visibility": null,
            "width": null
          }
        },
        "8759f8208f594b9bb9cae54102315233": {
          "model_module": "@jupyter-widgets/controls",
          "model_name": "ProgressStyleModel",
          "model_module_version": "1.5.0",
          "state": {
            "_model_module": "@jupyter-widgets/controls",
            "_model_module_version": "1.5.0",
            "_model_name": "ProgressStyleModel",
            "_view_count": null,
            "_view_module": "@jupyter-widgets/base",
            "_view_module_version": "1.2.0",
            "_view_name": "StyleView",
            "bar_color": null,
            "description_width": ""
          }
        },
        "5f4fafdba6724ec19f309025e56b7e1e": {
          "model_module": "@jupyter-widgets/base",
          "model_name": "LayoutModel",
          "model_module_version": "1.2.0",
          "state": {
            "_model_module": "@jupyter-widgets/base",
            "_model_module_version": "1.2.0",
            "_model_name": "LayoutModel",
            "_view_count": null,
            "_view_module": "@jupyter-widgets/base",
            "_view_module_version": "1.2.0",
            "_view_name": "LayoutView",
            "align_content": null,
            "align_items": null,
            "align_self": null,
            "border": null,
            "bottom": null,
            "display": null,
            "flex": null,
            "flex_flow": null,
            "grid_area": null,
            "grid_auto_columns": null,
            "grid_auto_flow": null,
            "grid_auto_rows": null,
            "grid_column": null,
            "grid_gap": null,
            "grid_row": null,
            "grid_template_areas": null,
            "grid_template_columns": null,
            "grid_template_rows": null,
            "height": null,
            "justify_content": null,
            "justify_items": null,
            "left": null,
            "margin": null,
            "max_height": null,
            "max_width": null,
            "min_height": null,
            "min_width": null,
            "object_fit": null,
            "object_position": null,
            "order": null,
            "overflow": null,
            "overflow_x": null,
            "overflow_y": null,
            "padding": null,
            "right": null,
            "top": null,
            "visibility": null,
            "width": null
          }
        },
        "2c6ae3c270ce439b9f3de60630abde6e": {
          "model_module": "@jupyter-widgets/controls",
          "model_name": "DescriptionStyleModel",
          "model_module_version": "1.5.0",
          "state": {
            "_model_module": "@jupyter-widgets/controls",
            "_model_module_version": "1.5.0",
            "_model_name": "DescriptionStyleModel",
            "_view_count": null,
            "_view_module": "@jupyter-widgets/base",
            "_view_module_version": "1.2.0",
            "_view_name": "StyleView",
            "description_width": ""
          }
        },
        "2344affa826c4fcca06390833127f415": {
          "model_module": "@jupyter-widgets/controls",
          "model_name": "HBoxModel",
          "model_module_version": "1.5.0",
          "state": {
            "_dom_classes": [],
            "_model_module": "@jupyter-widgets/controls",
            "_model_module_version": "1.5.0",
            "_model_name": "HBoxModel",
            "_view_count": null,
            "_view_module": "@jupyter-widgets/controls",
            "_view_module_version": "1.5.0",
            "_view_name": "HBoxView",
            "box_style": "",
            "children": [
              "IPY_MODEL_618015fff35f45c7b03201f537592ecb",
              "IPY_MODEL_334921f943a54827a5dd503d1d48d16a",
              "IPY_MODEL_e0620a3cf5bc4723b3726cc6d400b618"
            ],
            "layout": "IPY_MODEL_c359f6c4d5974668acd71db9cebc6841"
          }
        },
        "618015fff35f45c7b03201f537592ecb": {
          "model_module": "@jupyter-widgets/controls",
          "model_name": "HTMLModel",
          "model_module_version": "1.5.0",
          "state": {
            "_dom_classes": [],
            "_model_module": "@jupyter-widgets/controls",
            "_model_module_version": "1.5.0",
            "_model_name": "HTMLModel",
            "_view_count": null,
            "_view_module": "@jupyter-widgets/controls",
            "_view_module_version": "1.5.0",
            "_view_name": "HTMLView",
            "description": "",
            "description_tooltip": null,
            "layout": "IPY_MODEL_94b0b8af0c024cf4b65adef4d6e9da96",
            "placeholder": "​",
            "style": "IPY_MODEL_6470bdeb999841c78290e8359b84e67a",
            "value": "100%"
          }
        },
        "334921f943a54827a5dd503d1d48d16a": {
          "model_module": "@jupyter-widgets/controls",
          "model_name": "FloatProgressModel",
          "model_module_version": "1.5.0",
          "state": {
            "_dom_classes": [],
            "_model_module": "@jupyter-widgets/controls",
            "_model_module_version": "1.5.0",
            "_model_name": "FloatProgressModel",
            "_view_count": null,
            "_view_module": "@jupyter-widgets/controls",
            "_view_module_version": "1.5.0",
            "_view_name": "ProgressView",
            "bar_style": "success",
            "description": "",
            "description_tooltip": null,
            "layout": "IPY_MODEL_af33d149e5ef4564a8a3d60c6aeb6f04",
            "max": 128,
            "min": 0,
            "orientation": "horizontal",
            "style": "IPY_MODEL_af2029ede1e6461eba9dc348a8648a05",
            "value": 128
          }
        },
        "e0620a3cf5bc4723b3726cc6d400b618": {
          "model_module": "@jupyter-widgets/controls",
          "model_name": "HTMLModel",
          "model_module_version": "1.5.0",
          "state": {
            "_dom_classes": [],
            "_model_module": "@jupyter-widgets/controls",
            "_model_module_version": "1.5.0",
            "_model_name": "HTMLModel",
            "_view_count": null,
            "_view_module": "@jupyter-widgets/controls",
            "_view_module_version": "1.5.0",
            "_view_name": "HTMLView",
            "description": "",
            "description_tooltip": null,
            "layout": "IPY_MODEL_b9622bb4228b44d3a69a88f37037c2e8",
            "placeholder": "​",
            "style": "IPY_MODEL_35de9e9c0e3d493e972c9232844eab46",
            "value": " 128/128 [00:46&lt;00:00,  3.22it/s]"
          }
        },
        "c359f6c4d5974668acd71db9cebc6841": {
          "model_module": "@jupyter-widgets/base",
          "model_name": "LayoutModel",
          "model_module_version": "1.2.0",
          "state": {
            "_model_module": "@jupyter-widgets/base",
            "_model_module_version": "1.2.0",
            "_model_name": "LayoutModel",
            "_view_count": null,
            "_view_module": "@jupyter-widgets/base",
            "_view_module_version": "1.2.0",
            "_view_name": "LayoutView",
            "align_content": null,
            "align_items": null,
            "align_self": null,
            "border": null,
            "bottom": null,
            "display": null,
            "flex": null,
            "flex_flow": null,
            "grid_area": null,
            "grid_auto_columns": null,
            "grid_auto_flow": null,
            "grid_auto_rows": null,
            "grid_column": null,
            "grid_gap": null,
            "grid_row": null,
            "grid_template_areas": null,
            "grid_template_columns": null,
            "grid_template_rows": null,
            "height": null,
            "justify_content": null,
            "justify_items": null,
            "left": null,
            "margin": null,
            "max_height": null,
            "max_width": null,
            "min_height": null,
            "min_width": null,
            "object_fit": null,
            "object_position": null,
            "order": null,
            "overflow": null,
            "overflow_x": null,
            "overflow_y": null,
            "padding": null,
            "right": null,
            "top": null,
            "visibility": null,
            "width": null
          }
        },
        "94b0b8af0c024cf4b65adef4d6e9da96": {
          "model_module": "@jupyter-widgets/base",
          "model_name": "LayoutModel",
          "model_module_version": "1.2.0",
          "state": {
            "_model_module": "@jupyter-widgets/base",
            "_model_module_version": "1.2.0",
            "_model_name": "LayoutModel",
            "_view_count": null,
            "_view_module": "@jupyter-widgets/base",
            "_view_module_version": "1.2.0",
            "_view_name": "LayoutView",
            "align_content": null,
            "align_items": null,
            "align_self": null,
            "border": null,
            "bottom": null,
            "display": null,
            "flex": null,
            "flex_flow": null,
            "grid_area": null,
            "grid_auto_columns": null,
            "grid_auto_flow": null,
            "grid_auto_rows": null,
            "grid_column": null,
            "grid_gap": null,
            "grid_row": null,
            "grid_template_areas": null,
            "grid_template_columns": null,
            "grid_template_rows": null,
            "height": null,
            "justify_content": null,
            "justify_items": null,
            "left": null,
            "margin": null,
            "max_height": null,
            "max_width": null,
            "min_height": null,
            "min_width": null,
            "object_fit": null,
            "object_position": null,
            "order": null,
            "overflow": null,
            "overflow_x": null,
            "overflow_y": null,
            "padding": null,
            "right": null,
            "top": null,
            "visibility": null,
            "width": null
          }
        },
        "6470bdeb999841c78290e8359b84e67a": {
          "model_module": "@jupyter-widgets/controls",
          "model_name": "DescriptionStyleModel",
          "model_module_version": "1.5.0",
          "state": {
            "_model_module": "@jupyter-widgets/controls",
            "_model_module_version": "1.5.0",
            "_model_name": "DescriptionStyleModel",
            "_view_count": null,
            "_view_module": "@jupyter-widgets/base",
            "_view_module_version": "1.2.0",
            "_view_name": "StyleView",
            "description_width": ""
          }
        },
        "af33d149e5ef4564a8a3d60c6aeb6f04": {
          "model_module": "@jupyter-widgets/base",
          "model_name": "LayoutModel",
          "model_module_version": "1.2.0",
          "state": {
            "_model_module": "@jupyter-widgets/base",
            "_model_module_version": "1.2.0",
            "_model_name": "LayoutModel",
            "_view_count": null,
            "_view_module": "@jupyter-widgets/base",
            "_view_module_version": "1.2.0",
            "_view_name": "LayoutView",
            "align_content": null,
            "align_items": null,
            "align_self": null,
            "border": null,
            "bottom": null,
            "display": null,
            "flex": null,
            "flex_flow": null,
            "grid_area": null,
            "grid_auto_columns": null,
            "grid_auto_flow": null,
            "grid_auto_rows": null,
            "grid_column": null,
            "grid_gap": null,
            "grid_row": null,
            "grid_template_areas": null,
            "grid_template_columns": null,
            "grid_template_rows": null,
            "height": null,
            "justify_content": null,
            "justify_items": null,
            "left": null,
            "margin": null,
            "max_height": null,
            "max_width": null,
            "min_height": null,
            "min_width": null,
            "object_fit": null,
            "object_position": null,
            "order": null,
            "overflow": null,
            "overflow_x": null,
            "overflow_y": null,
            "padding": null,
            "right": null,
            "top": null,
            "visibility": null,
            "width": null
          }
        },
        "af2029ede1e6461eba9dc348a8648a05": {
          "model_module": "@jupyter-widgets/controls",
          "model_name": "ProgressStyleModel",
          "model_module_version": "1.5.0",
          "state": {
            "_model_module": "@jupyter-widgets/controls",
            "_model_module_version": "1.5.0",
            "_model_name": "ProgressStyleModel",
            "_view_count": null,
            "_view_module": "@jupyter-widgets/base",
            "_view_module_version": "1.2.0",
            "_view_name": "StyleView",
            "bar_color": null,
            "description_width": ""
          }
        },
        "b9622bb4228b44d3a69a88f37037c2e8": {
          "model_module": "@jupyter-widgets/base",
          "model_name": "LayoutModel",
          "model_module_version": "1.2.0",
          "state": {
            "_model_module": "@jupyter-widgets/base",
            "_model_module_version": "1.2.0",
            "_model_name": "LayoutModel",
            "_view_count": null,
            "_view_module": "@jupyter-widgets/base",
            "_view_module_version": "1.2.0",
            "_view_name": "LayoutView",
            "align_content": null,
            "align_items": null,
            "align_self": null,
            "border": null,
            "bottom": null,
            "display": null,
            "flex": null,
            "flex_flow": null,
            "grid_area": null,
            "grid_auto_columns": null,
            "grid_auto_flow": null,
            "grid_auto_rows": null,
            "grid_column": null,
            "grid_gap": null,
            "grid_row": null,
            "grid_template_areas": null,
            "grid_template_columns": null,
            "grid_template_rows": null,
            "height": null,
            "justify_content": null,
            "justify_items": null,
            "left": null,
            "margin": null,
            "max_height": null,
            "max_width": null,
            "min_height": null,
            "min_width": null,
            "object_fit": null,
            "object_position": null,
            "order": null,
            "overflow": null,
            "overflow_x": null,
            "overflow_y": null,
            "padding": null,
            "right": null,
            "top": null,
            "visibility": null,
            "width": null
          }
        },
        "35de9e9c0e3d493e972c9232844eab46": {
          "model_module": "@jupyter-widgets/controls",
          "model_name": "DescriptionStyleModel",
          "model_module_version": "1.5.0",
          "state": {
            "_model_module": "@jupyter-widgets/controls",
            "_model_module_version": "1.5.0",
            "_model_name": "DescriptionStyleModel",
            "_view_count": null,
            "_view_module": "@jupyter-widgets/base",
            "_view_module_version": "1.2.0",
            "_view_name": "StyleView",
            "description_width": ""
          }
        },
        "a8debd682d664d93884b35c631ecae35": {
          "model_module": "@jupyter-widgets/controls",
          "model_name": "HTMLModel",
          "model_module_version": "1.5.0",
          "state": {
            "_dom_classes": [],
            "_model_module": "@jupyter-widgets/controls",
            "_model_module_version": "1.5.0",
            "_model_name": "HTMLModel",
            "_view_count": null,
            "_view_module": "@jupyter-widgets/controls",
            "_view_module_version": "1.5.0",
            "_view_name": "HTMLView",
            "description": "",
            "description_tooltip": null,
            "layout": "IPY_MODEL_c8be750994154e17ac3c68fbaa5f7ca6",
            "placeholder": "​",
            "style": "IPY_MODEL_7776f358f0d2453390e6166477a0c0c0",
            "value": "<img src=\"data:image/gif;base64,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\" />"
          }
        },
        "c8be750994154e17ac3c68fbaa5f7ca6": {
          "model_module": "@jupyter-widgets/base",
          "model_name": "LayoutModel",
          "model_module_version": "1.2.0",
          "state": {
            "_model_module": "@jupyter-widgets/base",
            "_model_module_version": "1.2.0",
            "_model_name": "LayoutModel",
            "_view_count": null,
            "_view_module": "@jupyter-widgets/base",
            "_view_module_version": "1.2.0",
            "_view_name": "LayoutView",
            "align_content": null,
            "align_items": null,
            "align_self": null,
            "border": null,
            "bottom": null,
            "display": null,
            "flex": null,
            "flex_flow": null,
            "grid_area": null,
            "grid_auto_columns": null,
            "grid_auto_flow": null,
            "grid_auto_rows": null,
            "grid_column": null,
            "grid_gap": null,
            "grid_row": null,
            "grid_template_areas": null,
            "grid_template_columns": null,
            "grid_template_rows": null,
            "height": null,
            "justify_content": null,
            "justify_items": null,
            "left": null,
            "margin": null,
            "max_height": null,
            "max_width": null,
            "min_height": null,
            "min_width": null,
            "object_fit": null,
            "object_position": null,
            "order": null,
            "overflow": null,
            "overflow_x": null,
            "overflow_y": null,
            "padding": null,
            "right": null,
            "top": null,
            "visibility": null,
            "width": null
          }
        },
        "7776f358f0d2453390e6166477a0c0c0": {
          "model_module": "@jupyter-widgets/controls",
          "model_name": "DescriptionStyleModel",
          "model_module_version": "1.5.0",
          "state": {
            "_model_module": "@jupyter-widgets/controls",
            "_model_module_version": "1.5.0",
            "_model_name": "DescriptionStyleModel",
            "_view_count": null,
            "_view_module": "@jupyter-widgets/base",
            "_view_module_version": "1.2.0",
            "_view_name": "StyleView",
            "description_width": ""
          }
        }
      }
    }
  },
  "nbformat": 4,
  "nbformat_minor": 0
}